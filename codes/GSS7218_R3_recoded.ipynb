{
 "cells": [
  {
   "cell_type": "code",
   "execution_count": null,
   "metadata": {},
   "outputs": [],
   "source": [
    "import pandas as pd\n",
    "import numpy as np\n",
    "import pyreadstat\n",
    "\n",
    "# Specify the path to the SPSS file\n",
    "file_path = r\"C:\\Users\\Pei-Chin\\Desktop\\GSS7218_R3.sav\"\n",
    "\n",
    "# Read the SPSS file with pandas and pyreadstat\n",
    "df, meta = pyreadstat.read_sav(file_path)\n",
    "\n",
    "# Check the first few rows of the original data\n",
    "print(\"Original data preview:\")\n",
    "print(df.head())\n",
    "\n",
    "# Define the variables that need recoding\n",
    "column_recode_3to2 = [\"COURTS\", \"RELITEN\", \"HELPFUL\", \"FAIR\", \"TRUST\", \"AGED\", \"FINALTER\", \"DIVLAW\"]\n",
    "column_recode_4othertomissing = [\"GETAHEAD\"]\n",
    "column_recode_5othertomissing = [\"PREMARSX\", \"XMARSEX\", \"HOMOSEX\"]\n",
    "\n",
    "# Apply recoding\n",
    "# 1. Recode 3 to 2 for specified columns\n",
    "for col in column_recode_3to2:\n",
    "    if col in df.columns:\n",
    "        df[col] = df[col].replace(3, 2)\n",
    "\n",
    "# 2. Recode 4 to NaN (missing) for specified columns\n",
    "for col in column_recode_4othertomissing:\n",
    "    if col in df.columns:\n",
    "        df[col] = df[col].replace(4, np.nan)\n",
    "\n",
    "# 3. Recode 5 to NaN (missing) for specified columns\n",
    "for col in column_recode_5othertomissing:\n",
    "    if col in df.columns:\n",
    "        df[col] = df[col].replace(5, np.nan)\n",
    "\n",
    "# Check the recoded data\n",
    "print(\"\\nRecoded data preview:\")\n",
    "print(df.head())\n",
    "\n",
    "# Specify the save path and filename\n",
    "save_path = r\"C:\\Users\\Pei-Chin\\hi Dropbox\\Lu Pei-Chin\\shinyapp\\GSS7218_R3_recoded.sav\"\n",
    "\n",
    "# Save the recoded dataset in SPSS format\n",
    "pyreadstat.write_sav(df, save_path, file_label=\"Recoded GSS Data\", column_labels=meta.column_labels)\n",
    "\n",
    "print(f\"\\nRecoded data saved successfully at: {save_path}\")\n"
   ]
  }
 ],
 "metadata": {
  "kernelspec": {
   "display_name": "Python 3",
   "language": "python",
   "name": "python3"
  },
  "language_info": {
   "name": "python",
   "version": "3.12.7"
  }
 },
 "nbformat": 4,
 "nbformat_minor": 2
}
